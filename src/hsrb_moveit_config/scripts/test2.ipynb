{
 "cells": [
  {
   "cell_type": "code",
   "execution_count": 73,
   "metadata": {},
   "outputs": [
    {
     "name": "stdout",
     "output_type": "stream",
     "text": [
      "3536\n"
     ]
    }
   ],
   "source": [
    "import random\n",
    "import numpy as np\n",
    "import open3d as o3d\n",
    "# from numpy import \n",
    "import scipy\n",
    "from numpy import linalg\n",
    "\n",
    "o3d.visualization.draw_geometries([pcd])\n",
    "P = np.asarray(pcd.points)\n",
    "\n",
    "# print(np.array(A))\n",
    "Q = np.linalg.norm(P, axis=1)\n",
    "\n",
    "# print(P)\n",
    "\n",
    "iterations = 1500\n",
    "threshold= 0.04\n",
    "inliers = []\n",
    "i = 0\n",
    "\n",
    "while i < iterations:\n",
    "    idx1 = np.random.randint(len(P))\n",
    "    idx2 = np.random.randint(len(P)) \n",
    "    radius = random.uniform(0.05,0.1)\n",
    "    normal1 = N[idx1]\n",
    "    normal2= N[idx2]\n",
    "    \n",
    "    cyl_axis = np.cross(normal1,normal2)\n",
    "    cyl_axis /= np.linalg.norm(cyl_axis)\n",
    "    projection = np.eye(3) - np.outer(cyl_axis,cyl_axis)\n",
    "\n",
    "    proj_points = P.dot(projection)\n",
    "    pointX = proj_points[idx1]\n",
    "\n",
    "    projection1 = pointX - np.dot(pointX, normal1) * normal1\n",
    "    direction = projection1 - pointX\n",
    "    direction /= np.linalg.norm(direction)\n",
    "    center = pointX + radius * -direction\n",
    "\n",
    "    distances = np.linalg.norm(proj_points - center, axis=1)\n",
    "    idx_candidates = np.where(np.abs(distances) <= threshold)[0]\n",
    "    if len(idx_candidates) > len(inliers):\n",
    "        new_center = center\n",
    "        new_radius = radius\n",
    "        new_cyl_axis = cyl_axis\n",
    "        inliers = idx_candidates\n",
    "    i += 1\n",
    "print(len(inliers))\n",
    "\n",
    "new_cld=[]\n",
    "for x in inliers:\n",
    "    new_cld.append(P[x])\n",
    "len(new_cld)\n",
    "\n",
    "pcd = o3d.geometry.PointCloud()\n",
    "pcd.points = o3d.utility.Vector3dVector(new_cld)\n",
    "o3d.visualization.draw_geometries([pcd])\n",
    "\n"
   ]
  }
 ],
 "metadata": {
  "kernelspec": {
   "display_name": "Python 3",
   "language": "python",
   "name": "python3"
  },
  "language_info": {
   "codemirror_mode": {
    "name": "ipython",
    "version": 3
   },
   "file_extension": ".py",
   "mimetype": "text/x-python",
   "name": "python",
   "nbconvert_exporter": "python",
   "pygments_lexer": "ipython3",
   "version": "3.8.10"
  },
  "orig_nbformat": 4
 },
 "nbformat": 4,
 "nbformat_minor": 2
}
