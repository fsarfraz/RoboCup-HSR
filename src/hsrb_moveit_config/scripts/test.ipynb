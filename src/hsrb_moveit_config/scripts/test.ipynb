{
 "cells": [
  {
   "cell_type": "code",
   "execution_count": 12,
   "metadata": {},
   "outputs": [],
   "source": [
    "import numpy as np\n",
    "from numpy import linalg\n",
    "import open3d as o3d\n",
    "import trimesh\n",
    "\n",
    "def display_inlier_outlier(cloud, ind):\n",
    "    inlier_cloud = cloud.select_by_index(ind)\n",
    "    outlier_cloud = cloud.select_by_index(ind, invert=True)\n",
    "\n",
    "    print(\"Showing outliers (red) and inliers (gray): \")\n",
    "    outlier_cloud.paint_uniform_color([1, 0, 0])\n",
    "    inlier_cloud.paint_uniform_color([0.8, 0.8, 0.8])\n",
    "    o3d.visualization.draw_geometries([inlier_cloud, outlier_cloud])\n",
    "\n",
    "\n",
    "voxel_down_pcd = pcd.voxel_down_sample(voxel_size=0.002)\n",
    "o3d.visualization.draw_geometries([voxel_down_pcd])\n",
    "\n",
    "# cl, ind = voxel_down_pcd.remove_statistical_outlier(nb_neighbors=20,\n",
    "#                                                         std_ratio=2.0)\n",
    "# display_inlier_outlier(voxel_down_pcd, ind)\n",
    "\n",
    "\n",
    "# uni_down_pcd = pcd.uniform_down_sample(every_k_points=5)\n",
    "# o3d.visualization.draw_geometries([uni_down_pcd])\n",
    "\n",
    "\n",
    "\n",
    "\n",
    "# out_arr = np.asarray(pcd.points)\n",
    "# for x in out_arr:\n",
    "#     print(x)  \n",
    "# cloud = o3d.io.read_point_cloud(\"test.pcd\") # Read the point cloud\n",
    "# o3d.visualization.draw_geometries([pcd])\n",
    "\n"
   ]
  },
  {
   "cell_type": "code",
   "execution_count": 26,
   "metadata": {},
   "outputs": [],
   "source": [
    "import numpy as np\n",
    "import open3d as o3d\n",
    "import sys, os\n",
    "\n",
    "\n",
    "#pcd = o3d.io.read_point_cloud('./meshdata2.xyz')\n",
    "# pcd = o3d.io.read_point_cloud(\"test1(2).pcd\")\n",
    "pcd = o3d.io.read_point_cloud(\"test1(2).pcd\")\n",
    "voxel_down_pcd.estimate_normals()\n",
    "# pcd.estimate_normals()\n",
    "# to obtain a consistent normal orientation\n",
    "voxel_down_pcd.orient_normals_towards_camera_location(voxel_down_pcd.get_center())\n",
    "\n",
    "# or you might want to flip the normals to make them point outward, not mandatory\n",
    "voxel_down_pcd.normals = o3d.utility.Vector3dVector( - np.asarray(voxel_down_pcd.normals))\n",
    "\n",
    "# surface reconstruction using Poisson reconstruction\n",
    "mesh, _ = o3d.geometry.TriangleMesh.create_from_point_cloud_poisson(voxel_down_pcd, depth=5)\n",
    "# mesh, _ = o3d.geometry.TriangleMesh.create_from_point_cloud_poisson(pcd, depth=9)\n",
    "\n",
    "# paint uniform color to better visualize, not mandatory\n",
    "# mesh.paint_uniform_color(np.array([0.7, 0.7, 0.7]))\n",
    "# sys.path.append(os.path.abspath(os.path.join('..', 'include')))\n",
    "\n",
    "o3d.io.write_triangle_mesh(\"mesh.ply\", mesh)\n",
    "\n",
    "# o3d.io.write_triangle_mesh('a.ply', mesh)\n",
    "o3d.visualization.draw_geometries([mesh])"
   ]
  },
  {
   "cell_type": "code",
   "execution_count": 27,
   "metadata": {},
   "outputs": [],
   "source": [
    "mesh = o3d.io.read_triangle_mesh('mesh.ply')\n",
    "mesh.compute_vertex_normals()\n",
    "o3d.visualization.draw_geometries([mesh])\n"
   ]
  },
  {
   "cell_type": "code",
   "execution_count": 2,
   "metadata": {},
   "outputs": [
    {
     "name": "stdout",
     "output_type": "stream",
     "text": [
      "[0.2327274  0.23269371 0.23266082 ... 0.21458743 0.21457291 0.22177983]\n"
     ]
    }
   ],
   "source": [
    "\n",
    "\n",
    "\n"
   ]
  },
  {
   "cell_type": "code",
   "execution_count": null,
   "metadata": {},
   "outputs": [],
   "source": []
  },
  {
   "cell_type": "code",
   "execution_count": null,
   "metadata": {},
   "outputs": [],
   "source": []
  }
 ],
 "metadata": {
  "kernelspec": {
   "display_name": "Python 3",
   "language": "python",
   "name": "python3"
  },
  "language_info": {
   "codemirror_mode": {
    "name": "ipython",
    "version": 3
   },
   "file_extension": ".py",
   "mimetype": "text/x-python",
   "name": "python",
   "nbconvert_exporter": "python",
   "pygments_lexer": "ipython3",
   "version": "3.8.10"
  },
  "orig_nbformat": 4
 },
 "nbformat": 4,
 "nbformat_minor": 2
}
